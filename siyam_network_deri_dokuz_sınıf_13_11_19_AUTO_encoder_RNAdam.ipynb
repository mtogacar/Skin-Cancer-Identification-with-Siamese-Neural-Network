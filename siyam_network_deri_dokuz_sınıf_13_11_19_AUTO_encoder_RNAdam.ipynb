{
 "cells": [
  {
   "cell_type": "code",
   "execution_count": 22,
   "metadata": {
    "collapsed": true,
    "scrolled": false
   },
   "outputs": [],
   "source": [
    "import re\n",
    "import matplotlib.pyplot as plt\n",
    "import numpy as np\n",
    "from PIL import Image\n",
    "from sklearn.metrics import confusion_matrix\n",
    "from sklearn.model_selection import train_test_split\n",
    "from keras import backend as K\n",
    "from keras.layers import Activation\n",
    "from keras.layers import Input, Lambda, Dense, Dropout, Convolution2D, MaxPooling2D, Flatten\n",
    "from keras.models import Sequential, Model\n",
    "from keras.optimizers import RMSprop\n",
    "from keras.optimizers import Adam\n",
    "import keras\n",
    "from keras_rnadam import RNAdam\n",
    "import pylab as pl"
   ]
  },
  {
   "cell_type": "code",
   "execution_count": 23,
   "metadata": {
    "collapsed": true
   },
   "outputs": [],
   "source": [
    "\n",
    "\n",
    "def read_image(filename, byteorder='>'):\n",
    "    \n",
    "    #first we read the image, as a raw file to the buffer\n",
    "    with open(filename, 'rb') as f:\n",
    "        buffer = f.read()\n",
    "    \n",
    "    #using regex, we extract the header, width, height and maxval of the image\n",
    "    header, width, height, maxval = re.search(\n",
    "        b\"(^P5\\s(?:\\s*#.*[\\r\\n])*\"\n",
    "        b\"(\\d+)\\s(?:\\s*#.*[\\r\\n])*\"\n",
    "        b\"(\\d+)\\s(?:\\s*#.*[\\r\\n])*\"\n",
    "        b\"(\\d+)\\s(?:\\s*#.*[\\r\\n]\\s)*)\", buffer).groups()\n",
    "    \n",
    "    #then we convert the image to numpy array using np.frombuffer which interprets buffer as one dimensional array\n",
    "    return np.frombuffer(buffer,\n",
    "                            dtype='u1' if int(maxval) < 256 else byteorder+'u2',\n",
    "                            count=int(width)*int(height),\n",
    "                            offset=len(header)\n",
    "                            ).reshape((int(height), int(width)))\n",
    "\n",
    "\n"
   ]
  },
  {
   "cell_type": "code",
   "execution_count": 24,
   "metadata": {},
   "outputs": [
    {
     "data": {
      "image/png": "[encoded data removed]",
      "text/plain": [
       "<PIL.PpmImagePlugin.PpmImageFile image mode=L size=100x100 at 0x1C7B824DCC0>"
      ]
     },
     "execution_count": 24,
     "metadata": {},
     "output_type": "execute_result"
    }
   ],
   "source": [
    "Image.open(\"dataset/1/s (1).pgm\")"
   ]
  },
  {
   "cell_type": "code",
   "execution_count": 25,
   "metadata": {
    "collapsed": true,
    "scrolled": true
   },
   "outputs": [],
   "source": [
    "img = read_image('dataset/1/s (1).pgm')"
   ]
  },
  {
   "cell_type": "code",
   "execution_count": 26,
   "metadata": {},
   "outputs": [
    {
     "data": {
      "text/plain": [
       "(100, 100)"
      ]
     },
     "execution_count": 26,
     "metadata": {},
     "output_type": "execute_result"
    }
   ],
   "source": [
    "img.shape"
   ]
  },
  {
   "cell_type": "code",
   "execution_count": 27,
   "metadata": {
    "collapsed": true
   },
   "outputs": [],
   "source": [
    "size = 2\n",
    "total_sample_size = 15000\n",
    "\n",
    "\n",
    "def get_data(size, total_sample_size):\n",
    "    #read the image\n",
    "    image = read_image('dataset/' +str(1)+ '/' + 's ('+str(1) + ')'+'.pgm', 'rw+')\n",
    "    #reduce the size\n",
    "    image = image[::size, ::size]\n",
    "    #get the new size\n",
    "    dim1 = image.shape[0]\n",
    "    dim2 = image.shape[1]\n",
    "\n",
    "    count = 0\n",
    "    \n",
    "    #initialize the numpy array with the shape of [total_sample, no_of_pairs, dim1, dim2]\n",
    "    x_geuine_pair = np.zeros([total_sample_size, 2, 1, dim1, dim2])  # 2 is for pairs\n",
    "    y_genuine = np.zeros([total_sample_size, 1])\n",
    "    \n",
    "    for i in range(9):\n",
    "        for j in range(int(total_sample_size/9)):\n",
    "            ind1 = 0\n",
    "            ind2 = 0\n",
    "            \n",
    "            #read images from same directory (genuine pair)\n",
    "            while ind1 == ind2:\n",
    "                ind1 = np.random.randint(80)\n",
    "                ind2 = np.random.randint(80)\n",
    "            \n",
    "            # read the two images\n",
    "            img1 = read_image('dataset/' + str(i+1) + '/' +  's ('+ str(ind1 + 1) + ')'+'.pgm', 'rw+')\n",
    "            img2 = read_image('dataset/' + str(i+1) + '/' +'s ('+ str(ind2 + 1) + ')'+ '.pgm', 'rw+')\n",
    "            \n",
    "            #reduce the size\n",
    "            img1 = img1[::size, ::size]\n",
    "            img2 = img2[::size, ::size]\n",
    "            \n",
    "            #store the images to the initialized numpy array\n",
    "            x_geuine_pair[count, 0, 0, :, :] = img1\n",
    "            x_geuine_pair[count, 1, 0, :, :] = img2\n",
    "            \n",
    "            #as we are drawing images from the same directory we assign label as 1. (genuine pair)\n",
    "            y_genuine[count] = 1\n",
    "            count += 1\n",
    "\n",
    "    count = 0\n",
    "    x_imposite_pair = np.zeros([total_sample_size, 2, 1, dim1, dim2])\n",
    "    y_imposite = np.zeros([total_sample_size, 1])\n",
    "    \n",
    "    for i in range(int(total_sample_size/80)):\n",
    "        for j in range(80):\n",
    "            \n",
    "            #read images from different directory (imposite pair)\n",
    "            while True:\n",
    "                ind1 = np.random.randint(9)\n",
    "                ind2 = np.random.randint(9)\n",
    "                if ind1 != ind2:\n",
    "                    break\n",
    "                    \n",
    "            img1 = read_image('dataset/' + str(ind1+1) + '/' +   's ('+ str(j + 1) + ')'+'.pgm', 'rw+')\n",
    "            img2 = read_image('dataset/' + str(ind2+1) + '/' +  's ('+ str(j + 1) + ')'+ '.pgm', 'rw+')\n",
    "\n",
    "            img1 = img1[::size, ::size]\n",
    "            img2 = img2[::size, ::size]\n",
    "\n",
    "            x_imposite_pair[count, 0, 0, :, :] = img1\n",
    "            x_imposite_pair[count, 1, 0, :, :] = img2\n",
    "            #as we are drawing images from the different directory we assign label as 0. (imposite pair)\n",
    "            y_imposite[count] = 0\n",
    "            count += 1\n",
    "            \n",
    "    #now, concatenate, genuine pairs and imposite pair to get the whole data\n",
    "    X = np.concatenate([x_geuine_pair, x_imposite_pair], axis=0)/255\n",
    "    Y = np.concatenate([y_genuine, y_imposite], axis=0)\n",
    "\n",
    "    return X, Y"
   ]
  },
  {
   "cell_type": "code",
   "execution_count": 28,
   "metadata": {
    "collapsed": true,
    "scrolled": true
   },
   "outputs": [],
   "source": [
    "X, Y = get_data(size, total_sample_size)"
   ]
  },
  {
   "cell_type": "code",
   "execution_count": 29,
   "metadata": {},
   "outputs": [
    {
     "data": {
      "text/plain": [
       "(20000, 2, 1, 50, 50)"
      ]
     },
     "execution_count": 29,
     "metadata": {},
     "output_type": "execute_result"
    }
   ],
   "source": [
    "X.shape"
   ]
  },
  {
   "cell_type": "code",
   "execution_count": 30,
   "metadata": {
    "scrolled": true
   },
   "outputs": [
    {
     "data": {
      "text/plain": [
       "(20000, 1)"
      ]
     },
     "execution_count": 30,
     "metadata": {},
     "output_type": "execute_result"
    }
   ],
   "source": [
    "Y.shape"
   ]
  },
  {
   "cell_type": "code",
   "execution_count": 31,
   "metadata": {
    "collapsed": true
   },
   "outputs": [],
   "source": [
    "x_train, x_test, y_train, y_test = train_test_split(X, Y, test_size=.25)"
   ]
  },
  {
   "cell_type": "code",
   "execution_count": 32,
   "metadata": {
    "collapsed": true
   },
   "outputs": [],
   "source": [
    "def build_base_network(input_shape):\n",
    "    \n",
    "    seq = Sequential()\n",
    "    \n",
    "    nb_filter = [6, 12]\n",
    "    kernel_size = 3\n",
    "    \n",
    "    \n",
    "    #convolutional layer 1\n",
    "    seq.add(Convolution2D(nb_filter[0], kernel_size, kernel_size, input_shape=input_shape,\n",
    "                          border_mode='valid', dim_ordering='th'))\n",
    "    seq.add(Activation('relu'))\n",
    "    seq.add(MaxPooling2D(pool_size=(2, 2)))  \n",
    "    seq.add(Dropout(.25))\n",
    "    \n",
    "    #convolutional layer 2\n",
    "    seq.add(Convolution2D(nb_filter[1], kernel_size, kernel_size, border_mode='valid', dim_ordering='th'))\n",
    "    seq.add(Activation('relu'))\n",
    "    seq.add(MaxPooling2D(pool_size=(2, 2), dim_ordering='th')) \n",
    "    seq.add(Dropout(.25))\n",
    "\n",
    "    #flatten \n",
    "    seq.add(Flatten())\n",
    "    seq.add(Dense(128, activation='relu'))\n",
    "    seq.add(Dropout(0.1))\n",
    "    seq.add(Dense(50, activation='relu'))\n",
    "    return seq"
   ]
  },
  {
   "cell_type": "code",
   "execution_count": 33,
   "metadata": {
    "collapsed": true
   },
   "outputs": [],
   "source": [
    "input_dim = x_train.shape[2:]\n",
    "img_a = Input(shape=input_dim)\n",
    "img_b = Input(shape=input_dim)"
   ]
  },
  {
   "cell_type": "code",
   "execution_count": 34,
   "metadata": {},
   "outputs": [
    {
     "name": "stderr",
     "output_type": "stream",
     "text": [
      "C:\\Users\\IYI\\Anaconda3\\lib\\site-packages\\ipykernel_launcher.py:11: UserWarning: Update your `Conv2D` call to the Keras 2 API: `Conv2D(6, (3, 3), input_shape=(1, 50, 50..., padding=\"valid\", data_format=\"channels_first\")`\n",
      "  # This is added back by InteractiveShellApp.init_path()\n",
      "C:\\Users\\IYI\\Anaconda3\\lib\\site-packages\\ipykernel_launcher.py:17: UserWarning: Update your `Conv2D` call to the Keras 2 API: `Conv2D(12, (3, 3), padding=\"valid\", data_format=\"channels_first\")`\n",
      "C:\\Users\\IYI\\Anaconda3\\lib\\site-packages\\ipykernel_launcher.py:19: UserWarning: Update your `MaxPooling2D` call to the Keras 2 API: `MaxPooling2D(pool_size=(2, 2), data_format=\"channels_first\")`\n"
     ]
    }
   ],
   "source": [
    "base_network = build_base_network(input_dim)\n",
    "feat_vecs_a = base_network(img_a)\n",
    "feat_vecs_b = base_network(img_b)"
   ]
  },
  {
   "cell_type": "code",
   "execution_count": 35,
   "metadata": {
    "collapsed": true
   },
   "outputs": [],
   "source": [
    "def euclidean_distance(vects):\n",
    "    x, y = vects\n",
    "    return K.sqrt(K.sum(K.square(x - y), axis=1, keepdims=True))\n",
    "\n",
    "\n",
    "def eucl_dist_output_shape(shapes):\n",
    "    shape1, shape2 = shapes\n",
    "    return (shape1[0], 1)"
   ]
  },
  {
   "cell_type": "code",
   "execution_count": 36,
   "metadata": {
    "collapsed": true
   },
   "outputs": [],
   "source": [
    "distance = Lambda(euclidean_distance, output_shape=eucl_dist_output_shape)([feat_vecs_a, feat_vecs_b])"
   ]
  },
  {
   "cell_type": "code",
   "execution_count": 37,
   "metadata": {
    "collapsed": true
   },
   "outputs": [],
   "source": [
    "epochs = 60\n",
    "rms = RNAdam()"
   ]
  },
  {
   "cell_type": "code",
   "execution_count": 38,
   "metadata": {},
   "outputs": [
    {
     "name": "stderr",
     "output_type": "stream",
     "text": [
      "C:\\Users\\IYI\\Anaconda3\\lib\\site-packages\\ipykernel_launcher.py:1: UserWarning: Update your `Model` call to the Keras 2 API: `Model(inputs=[<tf.Tenso..., outputs=Tensor(\"la...)`\n",
      "  \"\"\"Entry point for launching an IPython kernel.\n"
     ]
    }
   ],
   "source": [
    "model = Model(input=[img_a, img_b], output=distance)"
   ]
  },
  {
   "cell_type": "code",
   "execution_count": 39,
   "metadata": {
    "collapsed": true
   },
   "outputs": [],
   "source": [
    "def contrastive_loss(y_true, y_pred):\n",
    "    margin = 1\n",
    "    return K.mean(y_true * K.square(y_pred) + (1 - y_true) * K.square(K.maximum(margin - y_pred, 0)))"
   ]
  },
  {
   "cell_type": "code",
   "execution_count": 40,
   "metadata": {
    "collapsed": true
   },
   "outputs": [],
   "source": [
    "def accuracy(y_true, y_pred):\n",
    "    return K.mean(K.equal(y_true, K.cast(y_pred < 0.5, y_true.dtype)))\n",
    "  \n",
    "# Modelimizin eğitim ve test verisi üzerinde nasıl çalıştığını görebilmek için.\n",
    "def compute_accuracy(y_true, y_pred):\n",
    "    pred = y_pred.ravel() < 0.5\n",
    "    return np.mean(pred == y_true)\n",
    "model.compile(loss= contrastive_loss,optimizer=rms,metrics=[accuracy])"
   ]
  },
  {
   "cell_type": "code",
   "execution_count": 41,
   "metadata": {
    "collapsed": true
   },
   "outputs": [],
   "source": [
    "img1 = x_train[:, 0]\n",
    "img2 = x_train[:, 1]"
   ]
  },
  {
   "cell_type": "code",
   "execution_count": 42,
   "metadata": {},
   "outputs": [
    {
     "name": "stderr",
     "output_type": "stream",
     "text": [
      "C:\\Users\\IYI\\Anaconda3\\lib\\site-packages\\ipykernel_launcher.py:1: UserWarning: The `nb_epoch` argument in `fit` has been renamed `epochs`.\n",
      "  \"\"\"Entry point for launching an IPython kernel.\n"
     ]
    },
    {
     "name": "stdout",
     "output_type": "stream",
     "text": [
      "Train on 11250 samples, validate on 3750 samples\n",
      "Epoch 1/60\n",
      " - 81s - loss: 0.2642 - accuracy: 0.5052 - val_loss: 0.4523 - val_accuracy: 0.4968\n",
      "Epoch 2/60\n",
      " - 80s - loss: 0.2604 - accuracy: 0.5061 - val_loss: 0.4613 - val_accuracy: 0.4968\n",
      "Epoch 3/60\n",
      " - 80s - loss: 0.2616 - accuracy: 0.5006 - val_loss: 0.4700 - val_accuracy: 0.4968\n",
      "Epoch 4/60\n",
      " - 80s - loss: 0.2599 - accuracy: 0.5025 - val_loss: 0.4710 - val_accuracy: 0.4968\n",
      "Epoch 5/60\n",
      " - 80s - loss: 0.2580 - accuracy: 0.5099 - val_loss: 0.4805 - val_accuracy: 0.4968\n",
      "Epoch 6/60\n",
      " - 80s - loss: 0.2568 - accuracy: 0.5130 - val_loss: 0.4751 - val_accuracy: 0.4968\n",
      "Epoch 7/60\n",
      " - 80s - loss: 0.2555 - accuracy: 0.5202 - val_loss: 0.4504 - val_accuracy: 0.4968\n",
      "Epoch 8/60\n",
      " - 81s - loss: 0.2534 - accuracy: 0.5327 - val_loss: 0.4254 - val_accuracy: 0.4968\n",
      "Epoch 9/60\n",
      " - 80s - loss: 0.2498 - accuracy: 0.5355 - val_loss: 0.3737 - val_accuracy: 0.4979\n",
      "Epoch 10/60\n",
      " - 80s - loss: 0.2465 - accuracy: 0.5532 - val_loss: 0.3335 - val_accuracy: 0.5016\n",
      "Epoch 11/60\n",
      " - 80s - loss: 0.2437 - accuracy: 0.5588 - val_loss: 0.3512 - val_accuracy: 0.5000\n",
      "Epoch 12/60\n",
      " - 80s - loss: 0.2408 - accuracy: 0.5662 - val_loss: 0.3271 - val_accuracy: 0.5155\n",
      "Epoch 13/60\n",
      " - 80s - loss: 0.2388 - accuracy: 0.5772 - val_loss: 0.3007 - val_accuracy: 0.5456\n",
      "Epoch 14/60\n",
      " - 80s - loss: 0.2342 - accuracy: 0.5927 - val_loss: 0.2906 - val_accuracy: 0.5315\n",
      "Epoch 15/60\n",
      " - 80s - loss: 0.2325 - accuracy: 0.5975 - val_loss: 0.2792 - val_accuracy: 0.5501\n",
      "Epoch 16/60\n",
      " - 80s - loss: 0.2263 - accuracy: 0.6151 - val_loss: 0.2724 - val_accuracy: 0.5435\n",
      "Epoch 17/60\n",
      " - 80s - loss: 0.2216 - accuracy: 0.6228 - val_loss: 0.2563 - val_accuracy: 0.5859\n",
      "Epoch 18/60\n",
      " - 80s - loss: 0.2158 - accuracy: 0.6412 - val_loss: 0.2417 - val_accuracy: 0.6037\n",
      "Epoch 19/60\n",
      " - 80s - loss: 0.2098 - accuracy: 0.6587 - val_loss: 0.2389 - val_accuracy: 0.6173\n",
      "Epoch 20/60\n",
      " - 80s - loss: 0.2037 - accuracy: 0.6716 - val_loss: 0.2239 - val_accuracy: 0.6251\n",
      "Epoch 21/60\n",
      " - 80s - loss: 0.1972 - accuracy: 0.6896 - val_loss: 0.2168 - val_accuracy: 0.6461\n",
      "Epoch 22/60\n",
      " - 80s - loss: 0.1905 - accuracy: 0.7076 - val_loss: 0.2051 - val_accuracy: 0.6741\n",
      "Epoch 23/60\n",
      " - 80s - loss: 0.1816 - accuracy: 0.7285 - val_loss: 0.2019 - val_accuracy: 0.6739\n",
      "Epoch 24/60\n",
      " - 80s - loss: 0.1738 - accuracy: 0.7459 - val_loss: 0.1845 - val_accuracy: 0.7253\n",
      "Epoch 25/60\n",
      " - 80s - loss: 0.1664 - accuracy: 0.7540 - val_loss: 0.1719 - val_accuracy: 0.7512\n",
      "Epoch 26/60\n",
      " - 80s - loss: 0.1569 - accuracy: 0.7799 - val_loss: 0.1633 - val_accuracy: 0.7541\n",
      "Epoch 27/60\n",
      " - 80s - loss: 0.1470 - accuracy: 0.7995 - val_loss: 0.1576 - val_accuracy: 0.7731\n",
      "Epoch 28/60\n",
      " - 80s - loss: 0.1410 - accuracy: 0.8090 - val_loss: 0.1436 - val_accuracy: 0.7963\n",
      "Epoch 29/60\n",
      " - 80s - loss: 0.1294 - accuracy: 0.8332 - val_loss: 0.1365 - val_accuracy: 0.8088\n",
      "Epoch 30/60\n",
      " - 80s - loss: 0.1193 - accuracy: 0.8503 - val_loss: 0.1307 - val_accuracy: 0.8203\n",
      "Epoch 31/60\n",
      " - 80s - loss: 0.1104 - accuracy: 0.8643 - val_loss: 0.1072 - val_accuracy: 0.8584\n",
      "Epoch 32/60\n",
      " - 80s - loss: 0.1043 - accuracy: 0.8739 - val_loss: 0.1041 - val_accuracy: 0.8661\n",
      "Epoch 33/60\n",
      " - 80s - loss: 0.0963 - accuracy: 0.8868 - val_loss: 0.1137 - val_accuracy: 0.8477\n",
      "Epoch 34/60\n",
      " - 80s - loss: 0.0888 - accuracy: 0.9026 - val_loss: 0.0936 - val_accuracy: 0.8808\n",
      "Epoch 35/60\n",
      " - 80s - loss: 0.0832 - accuracy: 0.9069 - val_loss: 0.0905 - val_accuracy: 0.8859\n",
      "Epoch 36/60\n",
      " - 80s - loss: 0.0759 - accuracy: 0.9225 - val_loss: 0.0863 - val_accuracy: 0.8893\n",
      "Epoch 37/60\n",
      " - 80s - loss: 0.0718 - accuracy: 0.9307 - val_loss: 0.0765 - val_accuracy: 0.9155\n",
      "Epoch 38/60\n",
      " - 80s - loss: 0.0656 - accuracy: 0.9364 - val_loss: 0.0691 - val_accuracy: 0.9219\n",
      "Epoch 39/60\n",
      " - 80s - loss: 0.0622 - accuracy: 0.9444 - val_loss: 0.0678 - val_accuracy: 0.9296\n",
      "Epoch 40/60\n",
      " - 80s - loss: 0.0598 - accuracy: 0.9473 - val_loss: 0.0647 - val_accuracy: 0.9304\n",
      "Epoch 41/60\n",
      " - 80s - loss: 0.0559 - accuracy: 0.9522 - val_loss: 0.0620 - val_accuracy: 0.9389\n",
      "Epoch 42/60\n",
      " - 80s - loss: 0.0526 - accuracy: 0.9567 - val_loss: 0.0612 - val_accuracy: 0.9368\n",
      "Epoch 43/60\n",
      " - 81s - loss: 0.0482 - accuracy: 0.9630 - val_loss: 0.0453 - val_accuracy: 0.9579\n",
      "Epoch 44/60\n",
      " - 80s - loss: 0.0462 - accuracy: 0.9641 - val_loss: 0.0505 - val_accuracy: 0.9523\n",
      "Epoch 45/60\n",
      " - 80s - loss: 0.0445 - accuracy: 0.9676 - val_loss: 0.0512 - val_accuracy: 0.9520\n",
      "Epoch 46/60\n",
      " - 80s - loss: 0.0400 - accuracy: 0.9740 - val_loss: 0.0433 - val_accuracy: 0.9611\n",
      "Epoch 47/60\n",
      " - 80s - loss: 0.0384 - accuracy: 0.9763 - val_loss: 0.0423 - val_accuracy: 0.9616\n",
      "Epoch 48/60\n",
      " - 80s - loss: 0.0360 - accuracy: 0.9790 - val_loss: 0.0448 - val_accuracy: 0.9603\n",
      "Epoch 49/60\n",
      " - 80s - loss: 0.0345 - accuracy: 0.9821 - val_loss: 0.0441 - val_accuracy: 0.9643\n",
      "Epoch 50/60\n",
      " - 80s - loss: 0.0320 - accuracy: 0.9839 - val_loss: 0.0362 - val_accuracy: 0.9725\n",
      "Epoch 51/60\n",
      " - 80s - loss: 0.0319 - accuracy: 0.9830 - val_loss: 0.0479 - val_accuracy: 0.9608\n",
      "Epoch 52/60\n",
      " - 80s - loss: 0.0286 - accuracy: 0.9894 - val_loss: 0.0308 - val_accuracy: 0.9811\n",
      "Epoch 53/60\n",
      " - 80s - loss: 0.0266 - accuracy: 0.9899 - val_loss: 0.0355 - val_accuracy: 0.9776\n",
      "Epoch 54/60\n",
      " - 81s - loss: 0.0246 - accuracy: 0.9932 - val_loss: 0.0301 - val_accuracy: 0.9797\n",
      "Epoch 55/60\n",
      " - 80s - loss: 0.0240 - accuracy: 0.9937 - val_loss: 0.0339 - val_accuracy: 0.9784\n",
      "Epoch 56/60\n",
      " - 80s - loss: 0.0228 - accuracy: 0.9935 - val_loss: 0.0260 - val_accuracy: 0.9819\n",
      "Epoch 57/60\n",
      " - 80s - loss: 0.0219 - accuracy: 0.9931 - val_loss: 0.0260 - val_accuracy: 0.9872\n",
      "Epoch 58/60\n",
      " - 80s - loss: 0.0197 - accuracy: 0.9950 - val_loss: 0.0247 - val_accuracy: 0.9875\n",
      "Epoch 59/60\n",
      " - 80s - loss: 0.0190 - accuracy: 0.9957 - val_loss: 0.0222 - val_accuracy: 0.9861\n",
      "Epoch 60/60\n",
      " - 80s - loss: 0.0183 - accuracy: 0.9954 - val_loss: 0.0258 - val_accuracy: 0.9840\n"
     ]
    }
   ],
   "source": [
    "history=model.fit([img1, img2], y_train, validation_split=.25,batch_size=128, verbose=2,nb_epoch=epochs)"
   ]
  },
  {
   "cell_type": "code",
   "execution_count": 43,
   "metadata": {
    "collapsed": true
   },
   "outputs": [],
   "source": [
    "pred = model.predict([x_test[:, 0], x_test[:, 1]])"
   ]
  },
  {
   "cell_type": "code",
   "execution_count": 44,
   "metadata": {
    "collapsed": true
   },
   "outputs": [],
   "source": [
    "def compute_accuracy(predictions, labels):\n",
    "    return labels[predictions.ravel() < 0.5].mean()"
   ]
  },
  {
   "cell_type": "code",
   "execution_count": 61,
   "metadata": {},
   "outputs": [
    {
     "data": {
      "image/png": "[encoded data removed]",
      "text/plain": [
       "<Figure size 1008x576 with 1 Axes>"
      ]
     },
     "metadata": {},
     "output_type": "display_data"
    }
   ],
   "source": [
    "# Plot training & validation accuracy values\n",
    "fig = plt.gcf()\n",
    "fig.set_size_inches(14,8, forward = False)\n",
    "plt.rc('legend',**{'fontsize':18})\n",
    "plt.xticks(size = 15)\n",
    "plt.yticks(size = 15)\n",
    "plt.plot(history.history['loss'])\n",
    "plt.plot(history.history['val_loss'])\n",
    "plt.title('Model Loss Graph',fontsize=16)\n",
    "plt.ylabel('Loss Rate',fontsize=16)\n",
    "plt.xlabel('Epoch',fontsize=16)\n",
    "plt.legend(['Training Loss', 'Validation Loss'], loc='upper right')\n",
    "plt.show()"
   ]
  },
  {
   "cell_type": "code",
   "execution_count": 85,
   "metadata": {},
   "outputs": [
    {
     "data": {
      "image/png": "[encoded data removed]",
      "text/plain": [
       "<Figure size 1008x576 with 1 Axes>"
      ]
     },
     "metadata": {},
     "output_type": "display_data"
    }
   ],
   "source": [
    "fig = plt.gcf()\n",
    "fig.set_size_inches(14,8, forward = False)\n",
    "plt.rc('legend',**{'fontsize':18})\n",
    "plt.xticks(size = 15)\n",
    "plt.yticks(size = 15)\n",
    "plt.plot(history.history['accuracy'])\n",
    "plt.plot(history.history['val_accuracy'])\n",
    "plt.title('Model Success Graph',fontsize=16)\n",
    "plt.ylabel('Accuracy Rate',fontsize=16)\n",
    "plt.xlabel('Epoch',fontsize=16)\n",
    "plt.legend(['Training Accuracy', 'Validation Accuracy'], loc='upper left')\n",
    "plt.show()\n",
    "model.save(\"model_RNAdam.h5\")"
   ]
  },
  {
   "cell_type": "code",
   "execution_count": 89,
   "metadata": {
    "collapsed": true
   },
   "outputs": [],
   "source": [
    "from PIL import Image\n",
    "from skimage.transform import resize\n",
    "import glob\n",
    "import numpy as np\n",
    "from sklearn.metrics import confusion_matrix\n",
    "from keras.models import load_model\n",
    "import keras.backend as K\n",
    "import keras\n",
    "from keras_rnadam import RNAdam\n",
    "%matplotlib inline"
   ]
  },
  {
   "cell_type": "code",
   "execution_count": 90,
   "metadata": {
    "collapsed": true
   },
   "outputs": [],
   "source": [
    "def contrastive_loss(y_true, y_pred):\n",
    "    margin = 1\n",
    "    return K.mean(y_true * K.square(y_pred) + (1 - y_true) * K.square(K.maximum(margin - y_pred, 0)))\n",
    "\n",
    "def accuracy(y_true, y_pred):\n",
    "    return K.mean(K.equal(y_true, K.cast(y_pred < 0.5, y_true.dtype)))\n",
    "  \n",
    "# Modelimizin eğitim ve test verisi üzerinde nasıl çalıştığını görebilmek için.\n",
    "def compute_accuracy(y_true, y_pred):\n",
    "    pred = y_pred.ravel() < 0.5\n",
    "    return np.mean(pred == y_true)"
   ]
  },
  {
   "cell_type": "code",
   "execution_count": 109,
   "metadata": {
    "collapsed": true
   },
   "outputs": [],
   "source": [
    "from sklearn.model_selection import KFold, train_test_split\n",
    "from sklearn.metrics import confusion_matrix, classification_report, precision_recall_fscore_support, accuracy_score\n",
    "#model = keras.models.load_model(\"model_RNAdam.h5\", custom_objects={'RNAdam': RNAdam}) \n",
    "data_dir = \"dataset\" # Veri seti klasörü\n",
    "size     = 2\n"
   ]
  },
  {
   "cell_type": "code",
   "execution_count": 110,
   "metadata": {
    "collapsed": true
   },
   "outputs": [],
   "source": [
    "def plot_confusion_matrix(cm,\n",
    "                          target_names,\n",
    "                          title='Confusion matrix',\n",
    "                          cmap=None,\n",
    "                          normalize=True):\n",
    "    \"\"\"\n",
    "    given a sklearn confusion matrix (cm), make a nice plot\n",
    "\n",
    "    Arguments\n",
    "    ---------\n",
    "    cm:           confusion matrix from sklearn.metrics.confusion_matrix\n",
    "\n",
    "    target_names: given classification classes such as [0, 1, 2]\n",
    "                  the class names, for example: ['high', 'medium', 'low']\n",
    "\n",
    "    title:        the text to display at the top of the matrix\n",
    "\n",
    "    cmap:         the gradient of the values displayed from matplotlib.pyplot.cm\n",
    "                  see http://matplotlib.org/examples/color/colormaps_reference.html\n",
    "                  plt.get_cmap('jet') or plt.cm.Blues\n",
    "\n",
    "    normalize:    If False, plot the raw numbers\n",
    "                  If True, plot the proportions\n",
    "\n",
    "    Usage\n",
    "    -----\n",
    "    plot_confusion_matrix(cm           = cm,                  # confusion matrix created by\n",
    "                                                              # sklearn.metrics.confusion_matrix\n",
    "                          normalize    = True,                # show proportions\n",
    "                          target_names = y_labels_vals,       # list of names of the classes\n",
    "                          title        = best_estimator_name) # title of graph\n",
    "\n",
    "    Citiation\n",
    "    ---------\n",
    "    http://scikit-learn.org/stable/auto_examples/model_selection/plot_confusion_matrix.html\n",
    "\n",
    "    \"\"\"\n",
    "    import matplotlib.pyplot as plt\n",
    "    import numpy as np\n",
    "    import itertools\n",
    "\n",
    "    accuracy = np.trace(cm) / float(np.sum(cm))\n",
    "    misclass = 1 - accuracy\n",
    "\n",
    "    if cmap is None:\n",
    "        cmap = plt.get_cmap('Blues')\n",
    "\n",
    "    plt.figure(figsize=(8, 6))\n",
    "    plt.imshow(cm, interpolation='nearest', cmap=cmap)\n",
    "    plt.title(title)\n",
    "    plt.colorbar()\n",
    "\n",
    "    if target_names is not None:\n",
    "        tick_marks = np.arange(len(target_names))\n",
    "        plt.xticks(tick_marks, target_names, rotation=45)\n",
    "        plt.yticks(tick_marks, target_names)\n",
    "\n",
    "    if normalize:\n",
    "        cm = cm.astype('float') / cm.sum(axis=1)[:, np.newaxis]\n",
    "\n",
    "\n",
    "    thresh = cm.max() / 1.5 if normalize else cm.max() / 2\n",
    "    for i, j in itertools.product(range(cm.shape[0]), range(cm.shape[1])):\n",
    "        if normalize:\n",
    "            plt.text(j, i, \"{:0.4f}\".format(cm[i, j]),\n",
    "                     horizontalalignment=\"center\",\n",
    "                     color=\"white\" if cm[i, j] > thresh else \"black\")\n",
    "        else:\n",
    "            plt.text(j, i, \"{:,}\".format(cm[i, j]),\n",
    "                     horizontalalignment=\"center\",\n",
    "                     color=\"white\" if cm[i, j] > thresh else \"black\")\n",
    "\n",
    "\n",
    "    plt.tight_layout()\n",
    "    plt.ylabel('True Label')\n",
    "    plt.xlabel('Predicted Label\\naccuracy={:0.4f}'.format(accuracy))\n",
    "    plt.savefig(\"confusion_matrix.png\", dpi=150)\n",
    "    plt.show()"
   ]
  },
  {
   "cell_type": "code",
   "execution_count": 138,
   "metadata": {},
   "outputs": [
    {
     "data": {
      "text/plain": [
       "['dataset\\\\1\\\\s (37).pgm',\n",
       " 'dataset\\\\6\\\\s (75).pgm',\n",
       " 'dataset\\\\1\\\\s (79).pgm',\n",
       " 'dataset\\\\7\\\\s (50).pgm',\n",
       " 'dataset\\\\3\\\\s (36).pgm']"
      ]
     },
     "execution_count": 138,
     "metadata": {},
     "output_type": "execute_result"
    }
   ],
   "source": [
    "images_path = glob.glob(f\"{data_dir}/*/*.pgm\") # tüm resimlerin yolu (path)\n",
    "images_path = list(np.random.choice(images_path, 20)) # rastgele 20 tane resim seç (eğer bu kod satırını \"yorum satırına\" çevirirseniz kodun çalışması biraz uzun sürecektir)\n",
    "images_path[:5]"
   ]
  },
  {
   "cell_type": "code",
   "execution_count": 139,
   "metadata": {
    "scrolled": true
   },
   "outputs": [
    {
     "name": "stdout",
     "output_type": "stream",
     "text": [
      "__________________________________________________________________________________________________\n",
      "Layer (type)                    Output Shape         Param #     Connected to                     \n",
      "==================================================================================================\n",
      "input_3 (InputLayer)            (None, 1, 50, 50)    0                                            \n",
      "__________________________________________________________________________________________________\n",
      "input_4 (InputLayer)            (None, 1, 50, 50)    0                                            \n",
      "__________________________________________________________________________________________________\n",
      "sequential_2 (Sequential)       (None, 50)           395582      input_3[0][0]                    \n",
      "                                                                 input_4[0][0]                    \n",
      "__________________________________________________________________________________________________\n",
      "lambda_2 (Lambda)               (None, 1)            0           sequential_2[1][0]               \n",
      "                                                                 sequential_2[2][0]               \n",
      "==================================================================================================\n",
      "Total params: 395,582\n",
      "Trainable params: 395,582\n",
      "Non-trainable params: 0\n",
      "__________________________________________________________________________________________________\n"
     ]
    }
   ],
   "source": [
    "model = load_model(\"model_RNAdam.h5\", custom_objects={\"contrastive_loss\":contrastive_loss ,\"RNAdam\": RNAdam})\n",
    "model.summary()"
   ]
  }
 ],
 "metadata": {
  "kernelspec": {
   "display_name": "Python 3",
   "language": "python",
   "name": "python3"
  },
  "language_info": {
   "codemirror_mode": {
    "name": "ipython",
    "version": 3
   },
   "file_extension": ".py",
   "mimetype": "text/x-python",
   "name": "python",
   "nbconvert_exporter": "python",
   "pygments_lexer": "ipython3",
   "version": "3.6.2"
  }
 },
 "nbformat": 4,
 "nbformat_minor": 2
}
