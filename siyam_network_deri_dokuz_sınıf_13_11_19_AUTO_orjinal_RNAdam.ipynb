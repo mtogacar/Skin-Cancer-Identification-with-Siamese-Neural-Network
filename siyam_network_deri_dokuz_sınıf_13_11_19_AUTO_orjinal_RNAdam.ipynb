{
 "cells": [
  {
   "cell_type": "code",
   "execution_count": 1,
   "metadata": {
    "scrolled": false
   },
   "outputs": [
    {
     "name": "stderr",
     "output_type": "stream",
     "text": [
      "C:\\Users\\IYI\\Anaconda3\\lib\\site-packages\\h5py\\__init__.py:34: FutureWarning: Conversion of the second argument of issubdtype from `float` to `np.floating` is deprecated. In future, it will be treated as `np.float64 == np.dtype(float).type`.\n",
      "  from ._conv import register_converters as _register_converters\n",
      "Using TensorFlow backend.\n"
     ]
    }
   ],
   "source": [
    "import re\n",
    "import matplotlib.pyplot as plt\n",
    "import numpy as np\n",
    "from PIL import Image\n",
    "from sklearn.metrics import confusion_matrix\n",
    "from sklearn.model_selection import train_test_split\n",
    "from keras import backend as K\n",
    "from keras.layers import Activation\n",
    "from keras.layers import Input, Lambda, Dense, Dropout, Convolution2D, MaxPooling2D, Flatten\n",
    "from keras.models import Sequential, Model\n",
    "from keras.optimizers import RMSprop\n",
    "from keras.optimizers import Adam\n",
    "import keras\n",
    "from keras_rnadam import RNAdam\n",
    "import pylab as pl"
   ]
  },
  {
   "cell_type": "code",
   "execution_count": 2,
   "metadata": {
    "collapsed": true
   },
   "outputs": [],
   "source": [
    "\n",
    "\n",
    "def read_image(filename, byteorder='>'):\n",
    "    \n",
    "    #first we read the image, as a raw file to the buffer\n",
    "    with open(filename, 'rb') as f:\n",
    "        buffer = f.read()\n",
    "    \n",
    "    #using regex, we extract the header, width, height and maxval of the image\n",
    "    header, width, height, maxval = re.search(\n",
    "        b\"(^P5\\s(?:\\s*#.*[\\r\\n])*\"\n",
    "        b\"(\\d+)\\s(?:\\s*#.*[\\r\\n])*\"\n",
    "        b\"(\\d+)\\s(?:\\s*#.*[\\r\\n])*\"\n",
    "        b\"(\\d+)\\s(?:\\s*#.*[\\r\\n]\\s)*)\", buffer).groups()\n",
    "    \n",
    "    #then we convert the image to numpy array using np.frombuffer which interprets buffer as one dimensional array\n",
    "    return np.frombuffer(buffer,\n",
    "                            dtype='u1' if int(maxval) < 256 else byteorder+'u2',\n",
    "                            count=int(width)*int(height),\n",
    "                            offset=len(header)\n",
    "                            ).reshape((int(height), int(width)))\n",
    "\n",
    "\n"
   ]
  },
  {
   "cell_type": "code",
   "execution_count": 3,
   "metadata": {},
   "outputs": [
    {
     "data": {
      "image/png": "[encoded data removed]",
      "text/plain": [
       "<PIL.PpmImagePlugin.PpmImageFile image mode=L size=100x100 at 0x25BC7921240>"
      ]
     },
     "execution_count": 3,
     "metadata": {},
     "output_type": "execute_result"
    }
   ],
   "source": [
    "Image.open(\"dataset/1/s (1).pgm\")"
   ]
  },
  {
   "cell_type": "code",
   "execution_count": 4,
   "metadata": {
    "collapsed": true,
    "scrolled": true
   },
   "outputs": [],
   "source": [
    "img = read_image('dataset/1/s (1).pgm')"
   ]
  },
  {
   "cell_type": "code",
   "execution_count": 5,
   "metadata": {},
   "outputs": [
    {
     "data": {
      "text/plain": [
       "(100, 100)"
      ]
     },
     "execution_count": 5,
     "metadata": {},
     "output_type": "execute_result"
    }
   ],
   "source": [
    "img.shape"
   ]
  },
  {
   "cell_type": "code",
   "execution_count": 6,
   "metadata": {
    "collapsed": true
   },
   "outputs": [],
   "source": [
    "size = 2\n",
    "total_sample_size = 15000\n",
    "\n",
    "\n",
    "def get_data(size, total_sample_size):\n",
    "    #read the image\n",
    "    image = read_image('dataset/' +str(1)+ '/' + 's ('+str(1) + ')'+'.pgm', 'rw+')\n",
    "    #reduce the size\n",
    "    image = image[::size, ::size]\n",
    "    #get the new size\n",
    "    dim1 = image.shape[0]\n",
    "    dim2 = image.shape[1]\n",
    "\n",
    "    count = 0\n",
    "    \n",
    "    #initialize the numpy array with the shape of [total_sample, no_of_pairs, dim1, dim2]\n",
    "    x_geuine_pair = np.zeros([total_sample_size, 2, 1, dim1, dim2])  # 2 is for pairs\n",
    "    y_genuine = np.zeros([total_sample_size, 1])\n",
    "    \n",
    "    for i in range(9):\n",
    "        for j in range(int(total_sample_size/9)):\n",
    "            ind1 = 0\n",
    "            ind2 = 0\n",
    "            \n",
    "            #read images from same directory (genuine pair)\n",
    "            while ind1 == ind2:\n",
    "                ind1 = np.random.randint(80)\n",
    "                ind2 = np.random.randint(80)\n",
    "            \n",
    "            # read the two images\n",
    "            img1 = read_image('dataset/' + str(i+1) + '/' +  's ('+ str(ind1 + 1) + ')'+'.pgm', 'rw+')\n",
    "            img2 = read_image('dataset/' + str(i+1) + '/' +'s ('+ str(ind2 + 1) + ')'+ '.pgm', 'rw+')\n",
    "            \n",
    "            #reduce the size\n",
    "            img1 = img1[::size, ::size]\n",
    "            img2 = img2[::size, ::size]\n",
    "            \n",
    "            #store the images to the initialized numpy array\n",
    "            x_geuine_pair[count, 0, 0, :, :] = img1\n",
    "            x_geuine_pair[count, 1, 0, :, :] = img2\n",
    "            \n",
    "            #as we are drawing images from the same directory we assign label as 1. (genuine pair)\n",
    "            y_genuine[count] = 1\n",
    "            count += 1\n",
    "\n",
    "    count = 0\n",
    "    x_imposite_pair = np.zeros([total_sample_size, 2, 1, dim1, dim2])\n",
    "    y_imposite = np.zeros([total_sample_size, 1])\n",
    "    \n",
    "    for i in range(int(total_sample_size/80)):\n",
    "        for j in range(80):\n",
    "            \n",
    "            #read images from different directory (imposite pair)\n",
    "            while True:\n",
    "                ind1 = np.random.randint(9)\n",
    "                ind2 = np.random.randint(9)\n",
    "                if ind1 != ind2:\n",
    "                    break\n",
    "                    \n",
    "            img1 = read_image('dataset/' + str(ind1+1) + '/' +   's ('+ str(j + 1) + ')'+'.pgm', 'rw+')\n",
    "            img2 = read_image('dataset/' + str(ind2+1) + '/' +  's ('+ str(j + 1) + ')'+ '.pgm', 'rw+')\n",
    "\n",
    "            img1 = img1[::size, ::size]\n",
    "            img2 = img2[::size, ::size]\n",
    "\n",
    "            x_imposite_pair[count, 0, 0, :, :] = img1\n",
    "            x_imposite_pair[count, 1, 0, :, :] = img2\n",
    "            #as we are drawing images from the different directory we assign label as 0. (imposite pair)\n",
    "            y_imposite[count] = 0\n",
    "            count += 1\n",
    "            \n",
    "    #now, concatenate, genuine pairs and imposite pair to get the whole data\n",
    "    X = np.concatenate([x_geuine_pair, x_imposite_pair], axis=0)/255\n",
    "    Y = np.concatenate([y_genuine, y_imposite], axis=0)\n",
    "\n",
    "    return X, Y"
   ]
  },
  {
   "cell_type": "code",
   "execution_count": 7,
   "metadata": {
    "collapsed": true,
    "scrolled": true
   },
   "outputs": [],
   "source": [
    "X, Y = get_data(size, total_sample_size)"
   ]
  },
  {
   "cell_type": "code",
   "execution_count": 8,
   "metadata": {},
   "outputs": [
    {
     "data": {
      "text/plain": [
       "(20000, 2, 1, 50, 50)"
      ]
     },
     "execution_count": 8,
     "metadata": {},
     "output_type": "execute_result"
    }
   ],
   "source": [
    "X.shape"
   ]
  },
  {
   "cell_type": "code",
   "execution_count": 9,
   "metadata": {
    "scrolled": true
   },
   "outputs": [
    {
     "data": {
      "text/plain": [
       "(20000, 1)"
      ]
     },
     "execution_count": 9,
     "metadata": {},
     "output_type": "execute_result"
    }
   ],
   "source": [
    "Y.shape"
   ]
  },
  {
   "cell_type": "code",
   "execution_count": 10,
   "metadata": {
    "collapsed": true
   },
   "outputs": [],
   "source": [
    "x_train, x_test, y_train, y_test = train_test_split(X, Y, test_size=.25)"
   ]
  },
  {
   "cell_type": "code",
   "execution_count": 11,
   "metadata": {
    "collapsed": true
   },
   "outputs": [],
   "source": [
    "def build_base_network(input_shape):\n",
    "    \n",
    "    seq = Sequential()\n",
    "    \n",
    "    nb_filter = [6, 12]\n",
    "    kernel_size = 3\n",
    "    \n",
    "    \n",
    "    #convolutional layer 1\n",
    "    seq.add(Convolution2D(nb_filter[0], kernel_size, kernel_size, input_shape=input_shape,\n",
    "                          border_mode='valid', dim_ordering='th'))\n",
    "    seq.add(Activation('relu'))\n",
    "    seq.add(MaxPooling2D(pool_size=(2, 2)))  \n",
    "    seq.add(Dropout(.25))\n",
    "    \n",
    "    #convolutional layer 2\n",
    "    seq.add(Convolution2D(nb_filter[1], kernel_size, kernel_size, border_mode='valid', dim_ordering='th'))\n",
    "    seq.add(Activation('relu'))\n",
    "    seq.add(MaxPooling2D(pool_size=(2, 2), dim_ordering='th')) \n",
    "    seq.add(Dropout(.25))\n",
    "\n",
    "    #flatten \n",
    "    seq.add(Flatten())\n",
    "    seq.add(Dense(128, activation='relu'))\n",
    "    seq.add(Dropout(0.1))\n",
    "    seq.add(Dense(50, activation='relu'))\n",
    "    return seq"
   ]
  },
  {
   "cell_type": "code",
   "execution_count": 12,
   "metadata": {
    "collapsed": true
   },
   "outputs": [],
   "source": [
    "input_dim = x_train.shape[2:]\n",
    "img_a = Input(shape=input_dim)\n",
    "img_b = Input(shape=input_dim)"
   ]
  },
  {
   "cell_type": "code",
   "execution_count": 13,
   "metadata": {},
   "outputs": [
    {
     "name": "stderr",
     "output_type": "stream",
     "text": [
      "C:\\Users\\IYI\\Anaconda3\\lib\\site-packages\\ipykernel_launcher.py:11: UserWarning: Update your `Conv2D` call to the Keras 2 API: `Conv2D(6, (3, 3), input_shape=(1, 50, 50..., padding=\"valid\", data_format=\"channels_first\")`\n",
      "  # This is added back by InteractiveShellApp.init_path()\n",
      "C:\\Users\\IYI\\Anaconda3\\lib\\site-packages\\ipykernel_launcher.py:17: UserWarning: Update your `Conv2D` call to the Keras 2 API: `Conv2D(12, (3, 3), padding=\"valid\", data_format=\"channels_first\")`\n",
      "C:\\Users\\IYI\\Anaconda3\\lib\\site-packages\\ipykernel_launcher.py:19: UserWarning: Update your `MaxPooling2D` call to the Keras 2 API: `MaxPooling2D(pool_size=(2, 2), data_format=\"channels_first\")`\n"
     ]
    }
   ],
   "source": [
    "base_network = build_base_network(input_dim)\n",
    "feat_vecs_a = base_network(img_a)\n",
    "feat_vecs_b = base_network(img_b)"
   ]
  },
  {
   "cell_type": "code",
   "execution_count": 14,
   "metadata": {
    "collapsed": true
   },
   "outputs": [],
   "source": [
    "def euclidean_distance(vects):\n",
    "    x, y = vects\n",
    "    return K.sqrt(K.sum(K.square(x - y), axis=1, keepdims=True))\n",
    "\n",
    "\n",
    "def eucl_dist_output_shape(shapes):\n",
    "    shape1, shape2 = shapes\n",
    "    return (shape1[0], 1)"
   ]
  },
  {
   "cell_type": "code",
   "execution_count": 15,
   "metadata": {
    "collapsed": true
   },
   "outputs": [],
   "source": [
    "distance = Lambda(euclidean_distance, output_shape=eucl_dist_output_shape)([feat_vecs_a, feat_vecs_b])"
   ]
  },
  {
   "cell_type": "code",
   "execution_count": 16,
   "metadata": {
    "collapsed": true
   },
   "outputs": [],
   "source": [
    "epochs = 60\n",
    "rms = RNAdam()"
   ]
  },
  {
   "cell_type": "code",
   "execution_count": 17,
   "metadata": {},
   "outputs": [
    {
     "name": "stderr",
     "output_type": "stream",
     "text": [
      "C:\\Users\\IYI\\Anaconda3\\lib\\site-packages\\ipykernel_launcher.py:1: UserWarning: Update your `Model` call to the Keras 2 API: `Model(inputs=[<tf.Tenso..., outputs=Tensor(\"la...)`\n",
      "  \"\"\"Entry point for launching an IPython kernel.\n"
     ]
    }
   ],
   "source": [
    "model = Model(input=[img_a, img_b], output=distance)"
   ]
  },
  {
   "cell_type": "code",
   "execution_count": 18,
   "metadata": {
    "collapsed": true
   },
   "outputs": [],
   "source": [
    "def contrastive_loss(y_true, y_pred):\n",
    "    margin = 1\n",
    "    return K.mean(y_true * K.square(y_pred) + (1 - y_true) * K.square(K.maximum(margin - y_pred, 0)))"
   ]
  },
  {
   "cell_type": "code",
   "execution_count": 19,
   "metadata": {
    "collapsed": true
   },
   "outputs": [],
   "source": [
    "def accuracy(y_true, y_pred):\n",
    "    return K.mean(K.equal(y_true, K.cast(y_pred < 0.5, y_true.dtype)))\n",
    "  \n",
    "# Modelimizin eğitim ve test verisi üzerinde nasıl çalıştığını görebilmek için.\n",
    "def compute_accuracy(y_true, y_pred):\n",
    "    pred = y_pred.ravel() < 0.5\n",
    "    return np.mean(pred == y_true)\n",
    "model.compile(loss= contrastive_loss,optimizer=rms,metrics=[accuracy])"
   ]
  },
  {
   "cell_type": "code",
   "execution_count": 20,
   "metadata": {
    "collapsed": true
   },
   "outputs": [],
   "source": [
    "img1 = x_train[:, 0]\n",
    "img2 = x_train[:, 1]"
   ]
  },
  {
   "cell_type": "code",
   "execution_count": 21,
   "metadata": {},
   "outputs": [
    {
     "name": "stderr",
     "output_type": "stream",
     "text": [
      "C:\\Users\\IYI\\Anaconda3\\lib\\site-packages\\ipykernel_launcher.py:1: UserWarning: The `nb_epoch` argument in `fit` has been renamed `epochs`.\n",
      "  \"\"\"Entry point for launching an IPython kernel.\n"
     ]
    },
    {
     "name": "stdout",
     "output_type": "stream",
     "text": [
      "Train on 11250 samples, validate on 3750 samples\n",
      "Epoch 1/60\n",
      " - 90s - loss: 0.2610 - accuracy: 0.4979 - val_loss: 0.4331 - val_accuracy: 0.5051\n",
      "Epoch 2/60\n",
      " - 87s - loss: 0.2614 - accuracy: 0.5014 - val_loss: 0.4455 - val_accuracy: 0.5051\n",
      "Epoch 3/60\n",
      " - 85s - loss: 0.2602 - accuracy: 0.5114 - val_loss: 0.4369 - val_accuracy: 0.5051\n",
      "Epoch 4/60\n",
      " - 87s - loss: 0.2569 - accuracy: 0.5209 - val_loss: 0.4227 - val_accuracy: 0.5051\n",
      "Epoch 5/60\n",
      " - 89s - loss: 0.2539 - accuracy: 0.5358 - val_loss: 0.4073 - val_accuracy: 0.5051\n",
      "Epoch 6/60\n",
      " - 87s - loss: 0.2529 - accuracy: 0.5411 - val_loss: 0.3939 - val_accuracy: 0.5051\n",
      "Epoch 7/60\n",
      " - 90s - loss: 0.2493 - accuracy: 0.5501 - val_loss: 0.3821 - val_accuracy: 0.5051\n",
      "Epoch 8/60\n",
      " - 89s - loss: 0.2462 - accuracy: 0.5585 - val_loss: 0.3666 - val_accuracy: 0.5072\n",
      "Epoch 9/60\n",
      " - 83s - loss: 0.2440 - accuracy: 0.5707 - val_loss: 0.3512 - val_accuracy: 0.5115\n",
      "Epoch 10/60\n",
      " - 83s - loss: 0.2406 - accuracy: 0.5728 - val_loss: 0.3375 - val_accuracy: 0.5288\n",
      "Epoch 11/60\n",
      " - 85s - loss: 0.2381 - accuracy: 0.5827 - val_loss: 0.3062 - val_accuracy: 0.5261\n",
      "Epoch 12/60\n",
      " - 89s - loss: 0.2319 - accuracy: 0.5977 - val_loss: 0.2780 - val_accuracy: 0.5587\n",
      "Epoch 13/60\n",
      " - 86s - loss: 0.2274 - accuracy: 0.6086 - val_loss: 0.2655 - val_accuracy: 0.5645\n",
      "Epoch 14/60\n",
      " - 89s - loss: 0.2216 - accuracy: 0.6192 - val_loss: 0.2507 - val_accuracy: 0.5936\n",
      "Epoch 15/60\n",
      " - 82s - loss: 0.2147 - accuracy: 0.6438 - val_loss: 0.2399 - val_accuracy: 0.6013\n",
      "Epoch 16/60\n",
      " - 87s - loss: 0.2125 - accuracy: 0.6485 - val_loss: 0.2505 - val_accuracy: 0.5864\n",
      "Epoch 17/60\n",
      " - 87s - loss: 0.2039 - accuracy: 0.6735 - val_loss: 0.2333 - val_accuracy: 0.6165\n",
      "Epoch 18/60\n",
      " - 89s - loss: 0.1983 - accuracy: 0.6875 - val_loss: 0.2222 - val_accuracy: 0.6392\n",
      "Epoch 19/60\n",
      " - 90s - loss: 0.1928 - accuracy: 0.7016 - val_loss: 0.2170 - val_accuracy: 0.6568\n",
      "Epoch 20/60\n",
      " - 90s - loss: 0.1860 - accuracy: 0.7129 - val_loss: 0.2107 - val_accuracy: 0.6571\n",
      "Epoch 21/60\n",
      " - 90s - loss: 0.1776 - accuracy: 0.7336 - val_loss: 0.1917 - val_accuracy: 0.7053\n",
      "Epoch 22/60\n",
      " - 94s - loss: 0.1719 - accuracy: 0.7469 - val_loss: 0.1782 - val_accuracy: 0.7291\n",
      "Epoch 23/60\n",
      " - 91s - loss: 0.1619 - accuracy: 0.7700 - val_loss: 0.1655 - val_accuracy: 0.7587\n",
      "Epoch 24/60\n",
      " - 85s - loss: 0.1574 - accuracy: 0.7766 - val_loss: 0.1548 - val_accuracy: 0.7797\n",
      "Epoch 25/60\n",
      " - 88s - loss: 0.1454 - accuracy: 0.8023 - val_loss: 0.1401 - val_accuracy: 0.8144\n",
      "Epoch 26/60\n",
      " - 88s - loss: 0.1376 - accuracy: 0.8214 - val_loss: 0.1294 - val_accuracy: 0.8293\n",
      "Epoch 27/60\n",
      " - 86s - loss: 0.1288 - accuracy: 0.8353 - val_loss: 0.1308 - val_accuracy: 0.8296\n",
      "Epoch 28/60\n",
      " - 87s - loss: 0.1224 - accuracy: 0.8450 - val_loss: 0.1181 - val_accuracy: 0.8523\n",
      "Epoch 29/60\n",
      " - 84s - loss: 0.1137 - accuracy: 0.8564 - val_loss: 0.1197 - val_accuracy: 0.8397\n",
      "Epoch 30/60\n",
      " - 85s - loss: 0.1059 - accuracy: 0.8696 - val_loss: 0.0959 - val_accuracy: 0.8888\n",
      "Epoch 31/60\n",
      " - 84s - loss: 0.1004 - accuracy: 0.8828 - val_loss: 0.1036 - val_accuracy: 0.8776\n",
      "Epoch 32/60\n",
      " - 84s - loss: 0.0945 - accuracy: 0.8896 - val_loss: 0.0992 - val_accuracy: 0.8789\n",
      "Epoch 33/60\n",
      " - 86s - loss: 0.0916 - accuracy: 0.8931 - val_loss: 0.1020 - val_accuracy: 0.8728\n",
      "Epoch 34/60\n",
      " - 85s - loss: 0.0868 - accuracy: 0.9011 - val_loss: 0.0950 - val_accuracy: 0.8832\n",
      "Epoch 35/60\n",
      " - 89s - loss: 0.0805 - accuracy: 0.9114 - val_loss: 0.0935 - val_accuracy: 0.8877\n",
      "Epoch 36/60\n",
      " - 90s - loss: 0.0795 - accuracy: 0.9128 - val_loss: 0.0782 - val_accuracy: 0.9115\n",
      "Epoch 37/60\n",
      " - 87s - loss: 0.0754 - accuracy: 0.9167 - val_loss: 0.0727 - val_accuracy: 0.9152\n",
      "Epoch 38/60\n",
      " - 85s - loss: 0.0743 - accuracy: 0.9172 - val_loss: 0.0680 - val_accuracy: 0.9203\n",
      "Epoch 39/60\n",
      " - 84s - loss: 0.0700 - accuracy: 0.9246 - val_loss: 0.0627 - val_accuracy: 0.9341\n",
      "Epoch 40/60\n",
      " - 87s - loss: 0.0671 - accuracy: 0.9297 - val_loss: 0.0732 - val_accuracy: 0.9160\n",
      "Epoch 41/60\n",
      " - 88s - loss: 0.0638 - accuracy: 0.9362 - val_loss: 0.0726 - val_accuracy: 0.9147\n",
      "Epoch 42/60\n",
      " - 90s - loss: 0.0598 - accuracy: 0.9388 - val_loss: 0.0648 - val_accuracy: 0.9253\n",
      "Epoch 43/60\n",
      " - 86s - loss: 0.0578 - accuracy: 0.9426 - val_loss: 0.0541 - val_accuracy: 0.9395\n",
      "Epoch 44/60\n",
      " - 86s - loss: 0.0552 - accuracy: 0.9471 - val_loss: 0.0538 - val_accuracy: 0.9400\n",
      "Epoch 45/60\n",
      " - 87s - loss: 0.0523 - accuracy: 0.9513 - val_loss: 0.0543 - val_accuracy: 0.9419\n",
      "Epoch 46/60\n",
      " - 89s - loss: 0.0507 - accuracy: 0.9526 - val_loss: 0.0494 - val_accuracy: 0.9475\n",
      "Epoch 47/60\n",
      " - 86s - loss: 0.0482 - accuracy: 0.9570 - val_loss: 0.0424 - val_accuracy: 0.9587\n",
      "Epoch 48/60\n",
      " - 87s - loss: 0.0502 - accuracy: 0.9526 - val_loss: 0.0546 - val_accuracy: 0.9459\n",
      "Epoch 49/60\n",
      " - 87s - loss: 0.0467 - accuracy: 0.9587 - val_loss: 0.0455 - val_accuracy: 0.9595\n",
      "Epoch 50/60\n",
      " - 84s - loss: 0.0434 - accuracy: 0.9641 - val_loss: 0.0408 - val_accuracy: 0.9661\n",
      "Epoch 51/60\n",
      " - 82s - loss: 0.0418 - accuracy: 0.9656 - val_loss: 0.0419 - val_accuracy: 0.9629\n",
      "Epoch 52/60\n",
      " - 82s - loss: 0.0402 - accuracy: 0.9668 - val_loss: 0.0410 - val_accuracy: 0.9669\n",
      "Epoch 53/60\n",
      " - 84s - loss: 0.0389 - accuracy: 0.9684 - val_loss: 0.0362 - val_accuracy: 0.9712\n",
      "Epoch 54/60\n",
      " - 83s - loss: 0.0380 - accuracy: 0.9692 - val_loss: 0.0364 - val_accuracy: 0.9699\n",
      "Epoch 55/60\n",
      " - 83s - loss: 0.0359 - accuracy: 0.9727 - val_loss: 0.0297 - val_accuracy: 0.9776\n",
      "Epoch 56/60\n",
      " - 88s - loss: 0.0346 - accuracy: 0.9743 - val_loss: 0.0289 - val_accuracy: 0.9736\n",
      "Epoch 57/60\n",
      " - 85s - loss: 0.0348 - accuracy: 0.9752 - val_loss: 0.0326 - val_accuracy: 0.9712\n",
      "Epoch 58/60\n",
      " - 85s - loss: 0.0327 - accuracy: 0.9754 - val_loss: 0.0270 - val_accuracy: 0.9755\n",
      "Epoch 59/60\n",
      " - 84s - loss: 0.0315 - accuracy: 0.9795 - val_loss: 0.0328 - val_accuracy: 0.9736\n",
      "Epoch 60/60\n",
      " - 84s - loss: 0.0289 - accuracy: 0.9827 - val_loss: 0.0287 - val_accuracy: 0.9797\n"
     ]
    }
   ],
   "source": [
    "history=model.fit([img1, img2], y_train, validation_split=.25,batch_size=128, verbose=2,nb_epoch=epochs)"
   ]
  },
  {
   "cell_type": "code",
   "execution_count": 22,
   "metadata": {
    "collapsed": true
   },
   "outputs": [],
   "source": [
    "pred = model.predict([x_test[:, 0], x_test[:, 1]])"
   ]
  },
  {
   "cell_type": "code",
   "execution_count": 23,
   "metadata": {
    "collapsed": true
   },
   "outputs": [],
   "source": [
    "def compute_accuracy(predictions, labels):\n",
    "    return labels[predictions.ravel() < 0.5].mean()"
   ]
  },
  {
   "cell_type": "code",
   "execution_count": 25,
   "metadata": {},
   "outputs": [
    {
     "data": {
      "image/png": "[encoded data removed]",
      "text/plain": [
       "<Figure size 1008x576 with 1 Axes>"
      ]
     },
     "metadata": {},
     "output_type": "display_data"
    }
   ],
   "source": [
    "# Plot training & validation accuracy values\n",
    "fig = plt.gcf()\n",
    "fig.set_size_inches(14,8, forward = False)\n",
    "plt.rc('legend',**{'fontsize':18})\n",
    "plt.xticks(size = 15)\n",
    "plt.yticks(size = 15)\n",
    "plt.plot(history.history['loss'])\n",
    "plt.plot(history.history['val_loss'])\n",
    "plt.title('Model Loss Graph',fontsize=16)\n",
    "plt.ylabel('Loss Rate',fontsize=16)\n",
    "plt.xlabel('Epoch',fontsize=16)\n",
    "plt.legend(['Training Loss', 'Validation Loss'], loc='upper right')\n",
    "plt.show()"
   ]
  },
  {
   "cell_type": "code",
   "execution_count": 26,
   "metadata": {},
   "outputs": [
    {
     "data": {
      "image/png": "[encoded data removed]",
      "text/plain": [
       "<Figure size 1008x576 with 1 Axes>"
      ]
     },
     "metadata": {},
     "output_type": "display_data"
    }
   ],
   "source": [
    "fig = plt.gcf()\n",
    "fig.set_size_inches(14,8, forward = False)\n",
    "plt.rc('legend',**{'fontsize':18})\n",
    "plt.xticks(size = 15)\n",
    "plt.yticks(size = 15)\n",
    "plt.plot(history.history['accuracy'])\n",
    "plt.plot(history.history['val_accuracy'])\n",
    "plt.title('Model Success Graph',fontsize=16)\n",
    "plt.ylabel('Accuracy Rate',fontsize=16)\n",
    "plt.xlabel('Epoch',fontsize=16)\n",
    "plt.legend(['Training Accuracy', 'Validation Accuracy'], loc='upper left')\n",
    "plt.show()\n",
    "model.save(\"model_RNAdam.h5\")"
   ]
  },
  {
   "cell_type": "code",
   "execution_count": 27,
   "metadata": {
    "collapsed": true
   },
   "outputs": [],
   "source": [
    "from PIL import Image\n",
    "from skimage.transform import resize\n",
    "import glob\n",
    "import numpy as np\n",
    "from sklearn.metrics import confusion_matrix\n",
    "from keras.models import load_model\n",
    "import keras.backend as K\n",
    "import keras\n",
    "from keras_rnadam import RNAdam\n",
    "%matplotlib inline"
   ]
  },
  {
   "cell_type": "code",
   "execution_count": 28,
   "metadata": {
    "collapsed": true
   },
   "outputs": [],
   "source": [
    "def contrastive_loss(y_true, y_pred):\n",
    "    margin = 1\n",
    "    return K.mean(y_true * K.square(y_pred) + (1 - y_true) * K.square(K.maximum(margin - y_pred, 0)))\n",
    "\n",
    "def accuracy(y_true, y_pred):\n",
    "    return K.mean(K.equal(y_true, K.cast(y_pred < 0.5, y_true.dtype)))\n",
    "  \n",
    "# Modelimizin eğitim ve test verisi üzerinde nasıl çalıştığını görebilmek için.\n",
    "def compute_accuracy(y_true, y_pred):\n",
    "    pred = y_pred.ravel() < 0.5\n",
    "    return np.mean(pred == y_true)"
   ]
  },
  {
   "cell_type": "code",
   "execution_count": 29,
   "metadata": {
    "collapsed": true
   },
   "outputs": [],
   "source": [
    "from sklearn.model_selection import KFold, train_test_split\n",
    "from sklearn.metrics import confusion_matrix, classification_report, precision_recall_fscore_support, accuracy_score\n",
    "#model = keras.models.load_model(\"model_RNAdam.h5\", custom_objects={'RNAdam': RNAdam}) \n",
    "data_dir = \"dataset\" # Veri seti klasörü\n",
    "size     = 2\n"
   ]
  },
  {
   "cell_type": "code",
   "execution_count": 30,
   "metadata": {
    "collapsed": true
   },
   "outputs": [],
   "source": [
    "def plot_confusion_matrix(cm,\n",
    "                          target_names,\n",
    "                          title='Confusion matrix',\n",
    "                          cmap=None,\n",
    "                          normalize=True):\n",
    "    \"\"\"\n",
    "    given a sklearn confusion matrix (cm), make a nice plot\n",
    "\n",
    "    Arguments\n",
    "    ---------\n",
    "    cm:           confusion matrix from sklearn.metrics.confusion_matrix\n",
    "\n",
    "    target_names: given classification classes such as [0, 1, 2]\n",
    "                  the class names, for example: ['high', 'medium', 'low']\n",
    "\n",
    "    title:        the text to display at the top of the matrix\n",
    "\n",
    "    cmap:         the gradient of the values displayed from matplotlib.pyplot.cm\n",
    "                  see http://matplotlib.org/examples/color/colormaps_reference.html\n",
    "                  plt.get_cmap('jet') or plt.cm.Blues\n",
    "\n",
    "    normalize:    If False, plot the raw numbers\n",
    "                  If True, plot the proportions\n",
    "\n",
    "    Usage\n",
    "    -----\n",
    "    plot_confusion_matrix(cm           = cm,                  # confusion matrix created by\n",
    "                                                              # sklearn.metrics.confusion_matrix\n",
    "                          normalize    = True,                # show proportions\n",
    "                          target_names = y_labels_vals,       # list of names of the classes\n",
    "                          title        = best_estimator_name) # title of graph\n",
    "\n",
    "    Citiation\n",
    "    ---------\n",
    "    http://scikit-learn.org/stable/auto_examples/model_selection/plot_confusion_matrix.html\n",
    "\n",
    "    \"\"\"\n",
    "    import matplotlib.pyplot as plt\n",
    "    import numpy as np\n",
    "    import itertools\n",
    "\n",
    "    accuracy = np.trace(cm) / float(np.sum(cm))\n",
    "    misclass = 1 - accuracy\n",
    "\n",
    "    if cmap is None:\n",
    "        cmap = plt.get_cmap('Blues')\n",
    "\n",
    "    plt.figure(figsize=(8, 6))\n",
    "    plt.imshow(cm, interpolation='nearest', cmap=cmap)\n",
    "    plt.title(title)\n",
    "    plt.colorbar()\n",
    "\n",
    "    if target_names is not None:\n",
    "        tick_marks = np.arange(len(target_names))\n",
    "        plt.xticks(tick_marks, target_names, rotation=45)\n",
    "        plt.yticks(tick_marks, target_names)\n",
    "\n",
    "    if normalize:\n",
    "        cm = cm.astype('float') / cm.sum(axis=1)[:, np.newaxis]\n",
    "\n",
    "\n",
    "    thresh = cm.max() / 1.5 if normalize else cm.max() / 2\n",
    "    for i, j in itertools.product(range(cm.shape[0]), range(cm.shape[1])):\n",
    "        if normalize:\n",
    "            plt.text(j, i, \"{:0.4f}\".format(cm[i, j]),\n",
    "                     horizontalalignment=\"center\",\n",
    "                     color=\"white\" if cm[i, j] > thresh else \"black\")\n",
    "        else:\n",
    "            plt.text(j, i, \"{:,}\".format(cm[i, j]),\n",
    "                     horizontalalignment=\"center\",\n",
    "                     color=\"white\" if cm[i, j] > thresh else \"black\")\n",
    "\n",
    "\n",
    "    plt.tight_layout()\n",
    "    plt.ylabel('True Label')\n",
    "    plt.xlabel('Predicted Label\\naccuracy={:0.4f}'.format(accuracy))\n",
    "    plt.savefig(\"confusion_matrix.png\", dpi=150)\n",
    "    plt.show()"
   ]
  },
  {
   "cell_type": "code",
   "execution_count": 138,
   "metadata": {},
   "outputs": [
    {
     "data": {
      "text/plain": [
       "['dataset\\\\1\\\\s (37).pgm',\n",
       " 'dataset\\\\6\\\\s (75).pgm',\n",
       " 'dataset\\\\1\\\\s (79).pgm',\n",
       " 'dataset\\\\7\\\\s (50).pgm',\n",
       " 'dataset\\\\3\\\\s (36).pgm']"
      ]
     },
     "execution_count": 138,
     "metadata": {},
     "output_type": "execute_result"
    }
   ],
   "source": [
    "images_path = glob.glob(f\"{data_dir}/*/*.pgm\") # tüm resimlerin yolu (path)\n",
    "images_path = list(np.random.choice(images_path, 20)) # rastgele 20 tane resim seç (eğer bu kod satırını \"yorum satırına\" çevirirseniz kodun çalışması biraz uzun sürecektir)\n",
    "images_path[:5]"
   ]
  },
  {
   "cell_type": "code",
   "execution_count": 31,
   "metadata": {
    "scrolled": true
   },
   "outputs": [
    {
     "name": "stdout",
     "output_type": "stream",
     "text": [
      "__________________________________________________________________________________________________\n",
      "Layer (type)                    Output Shape         Param #     Connected to                     \n",
      "==================================================================================================\n",
      "input_1 (InputLayer)            (None, 1, 50, 50)    0                                            \n",
      "__________________________________________________________________________________________________\n",
      "input_2 (InputLayer)            (None, 1, 50, 50)    0                                            \n",
      "__________________________________________________________________________________________________\n",
      "sequential_1 (Sequential)       (None, 50)           395582      input_1[0][0]                    \n",
      "                                                                 input_2[0][0]                    \n",
      "__________________________________________________________________________________________________\n",
      "lambda_1 (Lambda)               (None, 1)            0           sequential_1[1][0]               \n",
      "                                                                 sequential_1[2][0]               \n",
      "==================================================================================================\n",
      "Total params: 395,582\n",
      "Trainable params: 395,582\n",
      "Non-trainable params: 0\n",
      "__________________________________________________________________________________________________\n"
     ]
    }
   ],
   "source": [
    "model = load_model(\"model_RNAdam.h5\", custom_objects={\"contrastive_loss\":contrastive_loss ,\"RNAdam\": RNAdam})\n",
    "model.summary()"
   ]
  },
  {
   "cell_type": "code",
   "execution_count": null,
   "metadata": {
    "collapsed": true
   },
   "outputs": [],
   "source": [
    "\n"
   ]
  },
  {
   "cell_type": "code",
   "execution_count": null,
   "metadata": {
    "collapsed": true
   },
   "outputs": [],
   "source": []
  },
  {
   "cell_type": "code",
   "execution_count": null,
   "metadata": {
    "collapsed": true
   },
   "outputs": [],
   "source": []
  }
 ],
 "metadata": {
  "kernelspec": {
   "display_name": "Python 3",
   "language": "python",
   "name": "python3"
  },
  "language_info": {
   "codemirror_mode": {
    "name": "ipython",
    "version": 3
   },
   "file_extension": ".py",
   "mimetype": "text/x-python",
   "name": "python",
   "nbconvert_exporter": "python",
   "pygments_lexer": "ipython3",
   "version": "3.6.2"
  }
 },
 "nbformat": 4,
 "nbformat_minor": 2
}
